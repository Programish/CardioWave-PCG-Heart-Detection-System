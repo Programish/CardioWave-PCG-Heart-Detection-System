{
  "nbformat": 4,
  "nbformat_minor": 0,
  "metadata": {
    "colab": {
      "provenance": []
    },
    "kernelspec": {
      "name": "python3",
      "display_name": "Python 3"
    },
    "language_info": {
      "name": "python"
    }
  },
  "cells": [
    {
      "cell_type": "code",
      "source": [
        "from google.colab import drive\n",
        "drive.mount('/content/drive')"
      ],
      "metadata": {
        "colab": {
          "base_uri": "https://localhost:8080/"
        },
        "id": "zfHIKxsrQDtE",
        "outputId": "7099d8c1-4b80-4284-a239-6707f8317146"
      },
      "execution_count": null,
      "outputs": [
        {
          "output_type": "stream",
          "name": "stdout",
          "text": [
            "Drive already mounted at /content/drive; to attempt to forcibly remount, call drive.mount(\"/content/drive\", force_remount=True).\n"
          ]
        }
      ]
    },
    {
      "cell_type": "code",
      "source": [
        "!ls /content/drive/MyDrive/Pushpendra/PCG_Heart/PCG_Dataset"
      ],
      "metadata": {
        "colab": {
          "base_uri": "https://localhost:8080/"
        },
        "id": "wXPNCgXhQlqF",
        "outputId": "680dac4e-f4a0-40f6-b182-e52f8662a4f0"
      },
      "execution_count": null,
      "outputs": [
        {
          "output_type": "stream",
          "name": "stdout",
          "text": [
            "Aortic_Stenosis  Mitral_Regurgitation  Mitral_Stenosis\tMitral_Valve_Prolapse  Normal\n"
          ]
        }
      ]
    },
    {
      "cell_type": "code",
      "source": [
        "# !pip install pyemd python_speech_features"
      ],
      "metadata": {
        "id": "yUT7Uh0eUvz-"
      },
      "execution_count": null,
      "outputs": []
    },
    {
      "cell_type": "code",
      "source": [
        "# !pip install EMD-signal"
      ],
      "metadata": {
        "id": "gevsEtxHlug7"
      },
      "execution_count": null,
      "outputs": []
    },
    {
      "cell_type": "code",
      "source": [
        "import os\n",
        "import numpy as np\n",
        "from sklearn.model_selection import train_test_split\n",
        "from sklearn.preprocessing import LabelEncoder\n",
        "from keras.models import Sequential\n",
        "from keras.layers import Dense\n",
        "from keras.utils import to_categorical\n",
        "import librosa\n",
        "# from PyEMD import EMD"
      ],
      "metadata": {
        "id": "SciV4NBhk6CA"
      },
      "execution_count": null,
      "outputs": []
    },
    {
      "cell_type": "code",
      "source": [
        "!pip show librosa"
      ],
      "metadata": {
        "colab": {
          "base_uri": "https://localhost:8080/"
        },
        "id": "mLQOBfPC59Vn",
        "outputId": "4c6d3927-6b43-4656-8ff9-1e079bde060c"
      },
      "execution_count": null,
      "outputs": [
        {
          "output_type": "stream",
          "name": "stdout",
          "text": [
            "Name: librosa\n",
            "Version: 0.10.1\n",
            "Summary: Python module for audio and music processing\n",
            "Home-page: https://librosa.org\n",
            "Author: Brian McFee, librosa development team\n",
            "Author-email: brian.mcfee@nyu.edu\n",
            "License: ISC\n",
            "Location: /usr/local/lib/python3.10/dist-packages\n",
            "Requires: audioread, decorator, joblib, lazy-loader, msgpack, numba, numpy, pooch, scikit-learn, scipy, soundfile, soxr, typing-extensions\n",
            "Required-by: \n"
          ]
        }
      ]
    },
    {
      "cell_type": "code",
      "source": [
        "# Define the labels\n",
        "labels = ['Aortic_Stenosis', 'Mitral_Regurgitation', 'Mitral_Stenosis', 'Mitral_Valve_Prolapse', 'Normal']\n",
        "\n",
        "# Define the path to your dataset\n",
        "data_dir = '/content/drive/MyDrive/Pushpendra/PCG_Heart/PCG_Dataset'"
      ],
      "metadata": {
        "id": "9QG2dCbLk5-g"
      },
      "execution_count": null,
      "outputs": []
    },
    {
      "cell_type": "code",
      "source": [
        "# Preprocess data\n",
        "# def preprocess_data(dir, labels):\n",
        "#     X = []\n",
        "#     y = []\n",
        "#     for label in labels:\n",
        "#         class_dir = os.path.join(dir, label)\n",
        "#         for file in os.listdir(class_dir):\n",
        "#             file_path = os.path.join(class_dir, file)\n",
        "#             signal, sr = librosa.load(file_path)\n",
        "#             emd = EMD()\n",
        "#             imfs = emd.emd(signal)\n",
        "#             mfccs = librosa.feature.mfcc(y=imfs[0], sr=sr, n_mfcc=13)\n",
        "#             X.append(mfccs.mean(axis=1))\n",
        "#             y.append(label)\n",
        "#     return np.array(X), np.array(y)\n",
        "def preprocess_data(dir, labels):\n",
        "    X = []\n",
        "    y = []\n",
        "    for label in labels:\n",
        "        class_dir = os.path.join(dir, label)\n",
        "        for file in os.listdir(class_dir):\n",
        "            file_path = os.path.join(class_dir, file)\n",
        "            signal, sr = librosa.load(file_path)\n",
        "\n",
        "            # Compute the Short-Time Fourier Transform (STFT)\n",
        "            stft = np.abs(librosa.stft(signal))\n",
        "\n",
        "            # Compute spectral centroid and bandwidth\n",
        "            spectral_centroids = librosa.feature.spectral_centroid(S=stft, sr=sr)\n",
        "            spectral_bandwidth = librosa.feature.spectral_bandwidth(S=stft, sr=sr)\n",
        "\n",
        "            # Concatenate the features and take the mean\n",
        "            features = np.concatenate((spectral_centroids, spectral_bandwidth), axis=0).mean(axis=1)\n",
        "\n",
        "            X.append(features)\n",
        "            y.append(label)\n",
        "\n",
        "    return np.array(X), np.array(y)"
      ],
      "metadata": {
        "id": "9Tf6Llc5k57c"
      },
      "execution_count": null,
      "outputs": []
    },
    {
      "cell_type": "code",
      "source": [
        "X, y = preprocess_data(data_dir, labels)"
      ],
      "metadata": {
        "id": "XbJW8Yn4w8Lf"
      },
      "execution_count": null,
      "outputs": []
    },
    {
      "cell_type": "code",
      "source": [
        "np.savetxt('labels_pcg.txt', y, fmt='%s')"
      ],
      "metadata": {
        "id": "GyjXXU2a21gP"
      },
      "execution_count": null,
      "outputs": []
    },
    {
      "cell_type": "code",
      "source": [
        "# Encode labels\n",
        "le = LabelEncoder()\n",
        "y = to_categorical(le.fit_transform(y))"
      ],
      "metadata": {
        "id": "xMpIQLyTxJtv"
      },
      "execution_count": null,
      "outputs": []
    },
    {
      "cell_type": "code",
      "source": [
        "from sklearn.model_selection import train_test_split\n",
        "\n",
        "# Split data into training and test sets\n",
        "X_train, X_test, y_train, y_test = train_test_split(X, y, test_size=0.2, random_state=42)"
      ],
      "metadata": {
        "id": "7uuALIw5xNOf"
      },
      "execution_count": null,
      "outputs": []
    },
    {
      "cell_type": "code",
      "source": [
        "from keras.models import Sequential\n",
        "from keras.layers import LSTM, Dense, Dropout, BatchNormalization\n",
        "\n",
        "# Reshape data for LSTM\n",
        "X_train = X_train.reshape(X_train.shape[0], X_train.shape[1], 1)\n",
        "X_test = X_test.reshape(X_test.shape[0], X_test.shape[1], 1)\n",
        "\n",
        "# Define model\n",
        "# model = Sequential()\n",
        "# model.add(LSTM(256, input_shape=(X_train.shape[1], 1)))\n",
        "# model.add(Dense(256, activation='relu'))\n",
        "# model.add(Dense(len(labels), activation='softmax'))\n",
        "\n",
        "# # Compile model\n",
        "# model.compile(loss='categorical_crossentropy', metrics=['accuracy'], optimizer='adam')\n",
        "\n",
        "def build_improved_model(input_shape, num_classes):\n",
        "    model = Sequential()\n",
        "\n",
        "    # Adding the first LSTM layer with some Dropout regularization\n",
        "    model.add(LSTM(units=256, return_sequences=True, input_shape=input_shape))\n",
        "    model.add(Dropout(0.2))\n",
        "    model.add(BatchNormalization())\n",
        "\n",
        "    # Adding a second LSTM layer with some Dropout regularization\n",
        "    model.add(LSTM(units=128, return_sequences=True))\n",
        "    model.add(Dropout(0.2))\n",
        "    model.add(BatchNormalization())\n",
        "\n",
        "    # Adding a third LSTM layer with some Dropout regularization\n",
        "    model.add(LSTM(units=64))\n",
        "    model.add(Dropout(0.2))\n",
        "    model.add(BatchNormalization())\n",
        "\n",
        "    # Adding a Dense layer with some Dropout regularization\n",
        "    model.add(Dense(units=64, activation='relu'))\n",
        "    model.add(Dropout(0.2))\n",
        "\n",
        "    # Output layer\n",
        "    model.add(Dense(units=num_classes, activation='softmax'))\n",
        "\n",
        "    # Compile the model\n",
        "    model.compile(optimizer='adam', loss='categorical_crossentropy', metrics=['accuracy'])\n",
        "\n",
        "    return model"
      ],
      "metadata": {
        "id": "1P2yMyojkpHI"
      },
      "execution_count": null,
      "outputs": []
    },
    {
      "cell_type": "code",
      "source": [
        "# Train model\n",
        "# model.fit(X_train, y_train, batch_size=32, epochs=80, validation_data=(X_test, y_test))\n",
        "# Assuming X_train.shape[1] is the number of timesteps and 'labels' is a list of class labels\n",
        "input_shape = (X_train.shape[1], 1)\n",
        "num_classes = len(labels)\n",
        "improved_model = build_improved_model(input_shape, num_classes)\n",
        "\n",
        "# Now you can train the improved_model with your training data\n",
        "improved_model.fit(X_train, y_train, epochs=200, batch_size=32, validation_data=(X_test, y_test))"
      ],
      "metadata": {
        "id": "EPHWQOsixet6",
        "colab": {
          "base_uri": "https://localhost:8080/"
        },
        "outputId": "4e31550c-538e-49a6-ed5c-37f211a57eb7"
      },
      "execution_count": null,
      "outputs": [
        {
          "output_type": "stream",
          "name": "stdout",
          "text": [
            "Epoch 1/200\n",
            "25/25 [==============================] - 10s 84ms/step - loss: 1.8554 - accuracy: 0.2350 - val_loss: 1.6082 - val_accuracy: 0.1850\n",
            "Epoch 2/200\n",
            "25/25 [==============================] - 1s 28ms/step - loss: 1.7062 - accuracy: 0.2775 - val_loss: 1.6061 - val_accuracy: 0.1850\n",
            "Epoch 3/200\n",
            "25/25 [==============================] - 1s 28ms/step - loss: 1.6631 - accuracy: 0.2663 - val_loss: 1.6043 - val_accuracy: 0.1850\n",
            "Epoch 4/200\n",
            "25/25 [==============================] - 1s 27ms/step - loss: 1.5211 - accuracy: 0.3350 - val_loss: 1.6042 - val_accuracy: 0.2850\n",
            "Epoch 5/200\n",
            "25/25 [==============================] - 1s 27ms/step - loss: 1.5428 - accuracy: 0.3212 - val_loss: 1.6030 - val_accuracy: 0.2200\n",
            "Epoch 6/200\n",
            "25/25 [==============================] - 1s 27ms/step - loss: 1.5014 - accuracy: 0.3313 - val_loss: 1.6052 - val_accuracy: 0.3000\n",
            "Epoch 7/200\n",
            "25/25 [==============================] - 1s 22ms/step - loss: 1.5178 - accuracy: 0.3150 - val_loss: 1.5996 - val_accuracy: 0.2800\n",
            "Epoch 8/200\n",
            "25/25 [==============================] - 1s 22ms/step - loss: 1.4608 - accuracy: 0.3762 - val_loss: 1.6203 - val_accuracy: 0.3150\n",
            "Epoch 9/200\n",
            "25/25 [==============================] - 1s 25ms/step - loss: 1.4507 - accuracy: 0.3800 - val_loss: 1.6441 - val_accuracy: 0.2250\n",
            "Epoch 10/200\n",
            "25/25 [==============================] - 1s 21ms/step - loss: 1.4239 - accuracy: 0.3900 - val_loss: 1.5970 - val_accuracy: 0.2700\n",
            "Epoch 11/200\n",
            "25/25 [==============================] - 1s 23ms/step - loss: 1.4358 - accuracy: 0.3762 - val_loss: 1.6077 - val_accuracy: 0.3200\n",
            "Epoch 12/200\n",
            "25/25 [==============================] - 1s 21ms/step - loss: 1.4108 - accuracy: 0.3862 - val_loss: 1.6550 - val_accuracy: 0.1850\n",
            "Epoch 13/200\n",
            "25/25 [==============================] - 1s 22ms/step - loss: 1.3922 - accuracy: 0.4137 - val_loss: 1.6042 - val_accuracy: 0.1650\n",
            "Epoch 14/200\n",
            "25/25 [==============================] - 1s 22ms/step - loss: 1.3174 - accuracy: 0.4575 - val_loss: 1.7678 - val_accuracy: 0.1800\n",
            "Epoch 15/200\n",
            "25/25 [==============================] - 1s 30ms/step - loss: 1.3351 - accuracy: 0.4462 - val_loss: 1.7442 - val_accuracy: 0.1700\n",
            "Epoch 16/200\n",
            "25/25 [==============================] - 1s 35ms/step - loss: 1.2832 - accuracy: 0.4762 - val_loss: 1.3338 - val_accuracy: 0.4450\n",
            "Epoch 17/200\n",
            "25/25 [==============================] - 1s 33ms/step - loss: 1.2501 - accuracy: 0.4688 - val_loss: 1.2689 - val_accuracy: 0.5400\n",
            "Epoch 18/200\n",
            "25/25 [==============================] - 1s 32ms/step - loss: 1.1923 - accuracy: 0.5100 - val_loss: 1.7662 - val_accuracy: 0.2450\n",
            "Epoch 19/200\n",
            "25/25 [==============================] - 1s 27ms/step - loss: 1.2128 - accuracy: 0.4850 - val_loss: 1.3779 - val_accuracy: 0.4450\n",
            "Epoch 20/200\n",
            "25/25 [==============================] - 1s 23ms/step - loss: 1.1938 - accuracy: 0.5138 - val_loss: 2.0789 - val_accuracy: 0.1850\n",
            "Epoch 21/200\n",
            "25/25 [==============================] - 1s 22ms/step - loss: 1.1126 - accuracy: 0.5537 - val_loss: 1.3675 - val_accuracy: 0.4400\n",
            "Epoch 22/200\n",
            "25/25 [==============================] - 1s 23ms/step - loss: 1.1491 - accuracy: 0.5325 - val_loss: 1.2087 - val_accuracy: 0.5050\n",
            "Epoch 23/200\n",
            "25/25 [==============================] - 1s 22ms/step - loss: 1.1243 - accuracy: 0.5437 - val_loss: 0.9565 - val_accuracy: 0.5950\n",
            "Epoch 24/200\n",
            "25/25 [==============================] - 1s 22ms/step - loss: 1.1644 - accuracy: 0.5587 - val_loss: 1.7886 - val_accuracy: 0.2600\n",
            "Epoch 25/200\n",
            "25/25 [==============================] - 1s 23ms/step - loss: 1.1411 - accuracy: 0.5400 - val_loss: 0.8759 - val_accuracy: 0.6150\n",
            "Epoch 26/200\n",
            "25/25 [==============================] - 1s 23ms/step - loss: 1.0609 - accuracy: 0.5713 - val_loss: 1.0980 - val_accuracy: 0.5100\n",
            "Epoch 27/200\n",
            "25/25 [==============================] - 1s 28ms/step - loss: 1.0838 - accuracy: 0.5800 - val_loss: 1.8676 - val_accuracy: 0.4150\n",
            "Epoch 28/200\n",
            "25/25 [==============================] - 1s 24ms/step - loss: 1.0886 - accuracy: 0.5650 - val_loss: 1.1285 - val_accuracy: 0.5150\n",
            "Epoch 29/200\n",
            "25/25 [==============================] - 1s 22ms/step - loss: 1.0916 - accuracy: 0.5400 - val_loss: 1.2618 - val_accuracy: 0.4650\n",
            "Epoch 30/200\n",
            "25/25 [==============================] - 1s 21ms/step - loss: 1.0703 - accuracy: 0.5562 - val_loss: 1.2087 - val_accuracy: 0.4100\n",
            "Epoch 31/200\n",
            "25/25 [==============================] - 1s 22ms/step - loss: 1.0537 - accuracy: 0.5600 - val_loss: 1.4217 - val_accuracy: 0.4600\n",
            "Epoch 32/200\n",
            "25/25 [==============================] - 1s 23ms/step - loss: 1.1325 - accuracy: 0.5475 - val_loss: 1.4715 - val_accuracy: 0.4350\n",
            "Epoch 33/200\n",
            "25/25 [==============================] - 1s 24ms/step - loss: 1.0063 - accuracy: 0.5987 - val_loss: 1.1186 - val_accuracy: 0.5200\n",
            "Epoch 34/200\n",
            "25/25 [==============================] - 1s 23ms/step - loss: 0.9632 - accuracy: 0.6050 - val_loss: 0.8807 - val_accuracy: 0.6250\n",
            "Epoch 35/200\n",
            "25/25 [==============================] - 1s 24ms/step - loss: 1.0589 - accuracy: 0.5638 - val_loss: 1.1017 - val_accuracy: 0.4800\n",
            "Epoch 36/200\n",
            "25/25 [==============================] - 1s 35ms/step - loss: 0.9986 - accuracy: 0.5975 - val_loss: 1.2368 - val_accuracy: 0.4150\n",
            "Epoch 37/200\n",
            "25/25 [==============================] - 1s 42ms/step - loss: 1.0393 - accuracy: 0.5875 - val_loss: 1.1948 - val_accuracy: 0.4700\n",
            "Epoch 38/200\n",
            "25/25 [==============================] - 1s 32ms/step - loss: 1.0366 - accuracy: 0.5625 - val_loss: 1.3034 - val_accuracy: 0.4350\n",
            "Epoch 39/200\n",
            "25/25 [==============================] - 1s 35ms/step - loss: 0.9408 - accuracy: 0.6263 - val_loss: 1.0041 - val_accuracy: 0.6500\n",
            "Epoch 40/200\n",
            "25/25 [==============================] - 1s 29ms/step - loss: 0.9948 - accuracy: 0.6000 - val_loss: 2.2070 - val_accuracy: 0.3900\n",
            "Epoch 41/200\n",
            "25/25 [==============================] - 1s 27ms/step - loss: 1.0088 - accuracy: 0.5938 - val_loss: 0.9288 - val_accuracy: 0.6700\n",
            "Epoch 42/200\n",
            "25/25 [==============================] - 1s 26ms/step - loss: 0.9471 - accuracy: 0.6313 - val_loss: 1.5479 - val_accuracy: 0.4100\n",
            "Epoch 43/200\n",
            "25/25 [==============================] - 1s 26ms/step - loss: 0.9551 - accuracy: 0.6175 - val_loss: 2.1825 - val_accuracy: 0.2100\n",
            "Epoch 44/200\n",
            "25/25 [==============================] - 1s 27ms/step - loss: 1.0182 - accuracy: 0.5975 - val_loss: 1.0321 - val_accuracy: 0.4500\n",
            "Epoch 45/200\n",
            "25/25 [==============================] - 1s 26ms/step - loss: 0.9770 - accuracy: 0.6162 - val_loss: 0.7627 - val_accuracy: 0.7100\n",
            "Epoch 46/200\n",
            "25/25 [==============================] - 1s 24ms/step - loss: 1.0049 - accuracy: 0.6012 - val_loss: 0.9736 - val_accuracy: 0.6850\n",
            "Epoch 47/200\n",
            "25/25 [==============================] - 1s 22ms/step - loss: 0.9609 - accuracy: 0.6175 - val_loss: 1.3509 - val_accuracy: 0.5200\n",
            "Epoch 48/200\n",
            "25/25 [==============================] - 1s 22ms/step - loss: 0.9634 - accuracy: 0.6100 - val_loss: 0.8634 - val_accuracy: 0.7000\n",
            "Epoch 49/200\n",
            "25/25 [==============================] - 1s 23ms/step - loss: 0.9450 - accuracy: 0.6288 - val_loss: 1.1107 - val_accuracy: 0.4900\n",
            "Epoch 50/200\n",
            "25/25 [==============================] - 1s 22ms/step - loss: 0.8769 - accuracy: 0.6400 - val_loss: 1.1219 - val_accuracy: 0.6050\n",
            "Epoch 51/200\n",
            "25/25 [==============================] - 1s 23ms/step - loss: 0.9170 - accuracy: 0.6300 - val_loss: 0.8666 - val_accuracy: 0.6400\n",
            "Epoch 52/200\n",
            "25/25 [==============================] - 1s 22ms/step - loss: 0.9514 - accuracy: 0.6187 - val_loss: 1.1494 - val_accuracy: 0.5600\n",
            "Epoch 53/200\n",
            "25/25 [==============================] - 1s 22ms/step - loss: 0.9396 - accuracy: 0.6275 - val_loss: 0.7882 - val_accuracy: 0.6050\n",
            "Epoch 54/200\n",
            "25/25 [==============================] - 1s 21ms/step - loss: 0.8842 - accuracy: 0.6338 - val_loss: 1.3100 - val_accuracy: 0.5650\n",
            "Epoch 55/200\n",
            "25/25 [==============================] - 1s 22ms/step - loss: 1.0133 - accuracy: 0.5763 - val_loss: 1.0604 - val_accuracy: 0.5900\n",
            "Epoch 56/200\n",
            "25/25 [==============================] - 1s 24ms/step - loss: 0.9561 - accuracy: 0.6200 - val_loss: 0.9978 - val_accuracy: 0.6200\n",
            "Epoch 57/200\n",
            "25/25 [==============================] - 1s 33ms/step - loss: 0.9102 - accuracy: 0.6575 - val_loss: 1.4095 - val_accuracy: 0.4800\n",
            "Epoch 58/200\n",
            "25/25 [==============================] - 1s 34ms/step - loss: 0.9296 - accuracy: 0.6488 - val_loss: 2.1837 - val_accuracy: 0.2550\n",
            "Epoch 59/200\n",
            "25/25 [==============================] - 1s 33ms/step - loss: 0.9636 - accuracy: 0.6237 - val_loss: 1.0199 - val_accuracy: 0.5300\n",
            "Epoch 60/200\n",
            "25/25 [==============================] - 1s 36ms/step - loss: 0.9250 - accuracy: 0.6375 - val_loss: 0.9312 - val_accuracy: 0.7150\n",
            "Epoch 61/200\n",
            "25/25 [==============================] - 1s 23ms/step - loss: 0.9222 - accuracy: 0.6200 - val_loss: 0.9730 - val_accuracy: 0.6250\n",
            "Epoch 62/200\n",
            "25/25 [==============================] - 1s 23ms/step - loss: 0.9389 - accuracy: 0.6313 - val_loss: 1.6503 - val_accuracy: 0.4800\n",
            "Epoch 63/200\n",
            "25/25 [==============================] - 1s 21ms/step - loss: 0.9361 - accuracy: 0.6137 - val_loss: 0.7817 - val_accuracy: 0.7300\n",
            "Epoch 64/200\n",
            "25/25 [==============================] - 1s 23ms/step - loss: 0.9267 - accuracy: 0.6288 - val_loss: 1.2371 - val_accuracy: 0.4200\n",
            "Epoch 65/200\n",
            "25/25 [==============================] - 1s 22ms/step - loss: 0.8894 - accuracy: 0.6375 - val_loss: 0.8637 - val_accuracy: 0.6900\n",
            "Epoch 66/200\n",
            "25/25 [==============================] - 1s 22ms/step - loss: 0.9425 - accuracy: 0.6187 - val_loss: 1.4843 - val_accuracy: 0.4850\n",
            "Epoch 67/200\n",
            "25/25 [==============================] - 1s 24ms/step - loss: 0.9157 - accuracy: 0.6488 - val_loss: 0.6606 - val_accuracy: 0.7350\n",
            "Epoch 68/200\n",
            "25/25 [==============================] - 1s 23ms/step - loss: 0.8747 - accuracy: 0.6475 - val_loss: 1.0437 - val_accuracy: 0.6300\n",
            "Epoch 69/200\n",
            "25/25 [==============================] - 1s 23ms/step - loss: 0.8916 - accuracy: 0.6363 - val_loss: 0.7877 - val_accuracy: 0.6650\n",
            "Epoch 70/200\n",
            "25/25 [==============================] - 1s 27ms/step - loss: 0.9346 - accuracy: 0.6325 - val_loss: 0.8130 - val_accuracy: 0.6600\n",
            "Epoch 71/200\n",
            "25/25 [==============================] - 1s 23ms/step - loss: 0.8830 - accuracy: 0.6400 - val_loss: 0.9028 - val_accuracy: 0.6300\n",
            "Epoch 72/200\n",
            "25/25 [==============================] - 1s 21ms/step - loss: 0.8839 - accuracy: 0.6425 - val_loss: 1.6765 - val_accuracy: 0.4350\n",
            "Epoch 73/200\n",
            "25/25 [==============================] - 1s 24ms/step - loss: 0.9095 - accuracy: 0.6375 - val_loss: 0.7358 - val_accuracy: 0.6600\n",
            "Epoch 74/200\n",
            "25/25 [==============================] - 1s 22ms/step - loss: 0.8124 - accuracy: 0.6787 - val_loss: 0.7479 - val_accuracy: 0.7450\n",
            "Epoch 75/200\n",
            "25/25 [==============================] - 1s 21ms/step - loss: 0.8307 - accuracy: 0.6750 - val_loss: 1.8299 - val_accuracy: 0.4100\n",
            "Epoch 76/200\n",
            "25/25 [==============================] - 1s 22ms/step - loss: 0.8680 - accuracy: 0.6637 - val_loss: 1.2330 - val_accuracy: 0.5250\n",
            "Epoch 77/200\n",
            "25/25 [==============================] - 1s 22ms/step - loss: 0.8562 - accuracy: 0.6675 - val_loss: 0.8091 - val_accuracy: 0.7400\n",
            "Epoch 78/200\n",
            "25/25 [==============================] - 1s 34ms/step - loss: 0.8449 - accuracy: 0.6450 - val_loss: 0.9077 - val_accuracy: 0.6100\n",
            "Epoch 79/200\n",
            "25/25 [==============================] - 1s 46ms/step - loss: 0.9168 - accuracy: 0.6388 - val_loss: 0.6880 - val_accuracy: 0.7400\n",
            "Epoch 80/200\n",
            "25/25 [==============================] - 1s 40ms/step - loss: 0.8735 - accuracy: 0.6538 - val_loss: 0.9562 - val_accuracy: 0.6100\n",
            "Epoch 81/200\n",
            "25/25 [==============================] - 1s 33ms/step - loss: 0.8529 - accuracy: 0.6525 - val_loss: 1.2818 - val_accuracy: 0.4700\n",
            "Epoch 82/200\n",
            "25/25 [==============================] - 1s 21ms/step - loss: 0.8706 - accuracy: 0.6587 - val_loss: 2.0176 - val_accuracy: 0.3350\n",
            "Epoch 83/200\n",
            "25/25 [==============================] - 1s 23ms/step - loss: 0.9564 - accuracy: 0.6175 - val_loss: 1.5046 - val_accuracy: 0.4200\n",
            "Epoch 84/200\n",
            "25/25 [==============================] - 1s 22ms/step - loss: 0.8617 - accuracy: 0.6612 - val_loss: 1.1684 - val_accuracy: 0.5600\n",
            "Epoch 85/200\n",
            "25/25 [==============================] - 1s 27ms/step - loss: 0.8807 - accuracy: 0.6425 - val_loss: 1.5044 - val_accuracy: 0.5150\n",
            "Epoch 86/200\n",
            "25/25 [==============================] - 1s 28ms/step - loss: 0.8726 - accuracy: 0.6750 - val_loss: 0.7865 - val_accuracy: 0.7850\n",
            "Epoch 87/200\n",
            "25/25 [==============================] - 1s 27ms/step - loss: 0.8345 - accuracy: 0.6787 - val_loss: 0.6589 - val_accuracy: 0.7800\n",
            "Epoch 88/200\n",
            "25/25 [==============================] - 1s 23ms/step - loss: 0.8563 - accuracy: 0.6550 - val_loss: 1.0813 - val_accuracy: 0.6100\n",
            "Epoch 89/200\n",
            "25/25 [==============================] - 1s 21ms/step - loss: 0.8781 - accuracy: 0.6675 - val_loss: 0.8792 - val_accuracy: 0.5650\n",
            "Epoch 90/200\n",
            "25/25 [==============================] - 1s 22ms/step - loss: 0.9751 - accuracy: 0.6000 - val_loss: 3.5486 - val_accuracy: 0.2750\n",
            "Epoch 91/200\n",
            "25/25 [==============================] - 1s 24ms/step - loss: 1.0268 - accuracy: 0.6137 - val_loss: 1.2917 - val_accuracy: 0.5400\n",
            "Epoch 92/200\n",
            "25/25 [==============================] - 1s 21ms/step - loss: 0.9066 - accuracy: 0.6350 - val_loss: 0.8305 - val_accuracy: 0.6750\n",
            "Epoch 93/200\n",
            "25/25 [==============================] - 1s 24ms/step - loss: 0.9501 - accuracy: 0.6150 - val_loss: 0.7055 - val_accuracy: 0.7550\n",
            "Epoch 94/200\n",
            "25/25 [==============================] - 1s 22ms/step - loss: 0.8582 - accuracy: 0.6525 - val_loss: 0.7466 - val_accuracy: 0.7350\n",
            "Epoch 95/200\n",
            "25/25 [==============================] - 1s 22ms/step - loss: 0.9302 - accuracy: 0.6250 - val_loss: 0.7450 - val_accuracy: 0.6650\n",
            "Epoch 96/200\n",
            "25/25 [==============================] - 1s 21ms/step - loss: 0.8125 - accuracy: 0.6837 - val_loss: 0.7569 - val_accuracy: 0.7550\n",
            "Epoch 97/200\n",
            "25/25 [==============================] - 1s 23ms/step - loss: 0.8277 - accuracy: 0.6650 - val_loss: 0.7857 - val_accuracy: 0.7300\n",
            "Epoch 98/200\n",
            "25/25 [==============================] - 1s 28ms/step - loss: 0.8554 - accuracy: 0.6750 - val_loss: 0.9380 - val_accuracy: 0.6000\n",
            "Epoch 99/200\n",
            "25/25 [==============================] - 1s 41ms/step - loss: 0.7897 - accuracy: 0.7063 - val_loss: 0.8416 - val_accuracy: 0.6850\n",
            "Epoch 100/200\n",
            "25/25 [==============================] - 1s 41ms/step - loss: 0.8445 - accuracy: 0.6725 - val_loss: 0.9335 - val_accuracy: 0.5900\n",
            "Epoch 101/200\n",
            "25/25 [==============================] - 1s 35ms/step - loss: 0.7956 - accuracy: 0.6862 - val_loss: 0.7393 - val_accuracy: 0.7550\n",
            "Epoch 102/200\n",
            "25/25 [==============================] - 1s 27ms/step - loss: 0.8204 - accuracy: 0.6687 - val_loss: 1.1476 - val_accuracy: 0.6300\n",
            "Epoch 103/200\n",
            "25/25 [==============================] - 1s 23ms/step - loss: 0.8545 - accuracy: 0.6787 - val_loss: 0.9600 - val_accuracy: 0.6700\n",
            "Epoch 104/200\n",
            "25/25 [==============================] - 1s 24ms/step - loss: 0.8173 - accuracy: 0.6787 - val_loss: 1.0666 - val_accuracy: 0.5950\n",
            "Epoch 105/200\n",
            "25/25 [==============================] - 1s 27ms/step - loss: 0.8484 - accuracy: 0.6662 - val_loss: 0.6601 - val_accuracy: 0.7700\n",
            "Epoch 106/200\n",
            "25/25 [==============================] - 1s 26ms/step - loss: 0.8048 - accuracy: 0.6825 - val_loss: 0.8159 - val_accuracy: 0.6700\n",
            "Epoch 107/200\n",
            "25/25 [==============================] - 1s 22ms/step - loss: 0.8208 - accuracy: 0.6600 - val_loss: 0.8037 - val_accuracy: 0.6900\n",
            "Epoch 108/200\n",
            "25/25 [==============================] - 1s 23ms/step - loss: 0.7563 - accuracy: 0.7125 - val_loss: 0.8392 - val_accuracy: 0.6650\n",
            "Epoch 109/200\n",
            "25/25 [==============================] - 1s 23ms/step - loss: 0.7332 - accuracy: 0.7075 - val_loss: 0.6853 - val_accuracy: 0.7300\n",
            "Epoch 110/200\n",
            "25/25 [==============================] - 1s 23ms/step - loss: 0.8587 - accuracy: 0.6575 - val_loss: 1.4588 - val_accuracy: 0.4200\n",
            "Epoch 111/200\n",
            "25/25 [==============================] - 1s 22ms/step - loss: 0.8071 - accuracy: 0.6675 - val_loss: 0.8199 - val_accuracy: 0.5850\n",
            "Epoch 112/200\n",
            "25/25 [==============================] - 1s 22ms/step - loss: 0.8852 - accuracy: 0.6513 - val_loss: 1.0867 - val_accuracy: 0.6000\n",
            "Epoch 113/200\n",
            "25/25 [==============================] - 1s 23ms/step - loss: 0.8886 - accuracy: 0.6575 - val_loss: 2.2689 - val_accuracy: 0.2400\n",
            "Epoch 114/200\n",
            "25/25 [==============================] - 1s 22ms/step - loss: 0.7795 - accuracy: 0.7125 - val_loss: 0.8179 - val_accuracy: 0.6950\n",
            "Epoch 115/200\n",
            "25/25 [==============================] - 1s 22ms/step - loss: 0.8052 - accuracy: 0.6938 - val_loss: 0.6419 - val_accuracy: 0.7550\n",
            "Epoch 116/200\n",
            "25/25 [==============================] - 1s 25ms/step - loss: 0.8185 - accuracy: 0.6825 - val_loss: 0.7690 - val_accuracy: 0.6850\n",
            "Epoch 117/200\n",
            "25/25 [==============================] - 1s 22ms/step - loss: 0.8576 - accuracy: 0.6538 - val_loss: 0.8092 - val_accuracy: 0.6700\n",
            "Epoch 118/200\n",
            "25/25 [==============================] - 1s 21ms/step - loss: 0.8483 - accuracy: 0.6650 - val_loss: 0.7819 - val_accuracy: 0.6650\n",
            "Epoch 119/200\n",
            "25/25 [==============================] - 1s 26ms/step - loss: 0.7862 - accuracy: 0.6925 - val_loss: 0.9883 - val_accuracy: 0.6350\n",
            "Epoch 120/200\n",
            "25/25 [==============================] - 1s 32ms/step - loss: 0.7576 - accuracy: 0.7000 - val_loss: 1.2067 - val_accuracy: 0.4400\n",
            "Epoch 121/200\n",
            "25/25 [==============================] - 1s 34ms/step - loss: 0.8444 - accuracy: 0.6862 - val_loss: 2.0003 - val_accuracy: 0.4100\n",
            "Epoch 122/200\n",
            "25/25 [==============================] - 1s 33ms/step - loss: 0.8485 - accuracy: 0.6525 - val_loss: 1.2759 - val_accuracy: 0.5450\n",
            "Epoch 123/200\n",
            "25/25 [==============================] - 1s 34ms/step - loss: 0.7741 - accuracy: 0.6913 - val_loss: 0.9867 - val_accuracy: 0.6000\n",
            "Epoch 124/200\n",
            "25/25 [==============================] - 1s 23ms/step - loss: 0.8519 - accuracy: 0.6562 - val_loss: 0.6948 - val_accuracy: 0.7700\n",
            "Epoch 125/200\n",
            "25/25 [==============================] - 1s 22ms/step - loss: 0.8126 - accuracy: 0.6725 - val_loss: 0.7246 - val_accuracy: 0.7050\n",
            "Epoch 126/200\n",
            "25/25 [==============================] - 1s 27ms/step - loss: 0.7916 - accuracy: 0.6925 - val_loss: 0.8186 - val_accuracy: 0.6150\n",
            "Epoch 127/200\n",
            "25/25 [==============================] - 1s 26ms/step - loss: 0.7680 - accuracy: 0.6938 - val_loss: 0.7743 - val_accuracy: 0.6800\n",
            "Epoch 128/200\n",
            "25/25 [==============================] - 1s 27ms/step - loss: 0.8005 - accuracy: 0.6800 - val_loss: 0.5776 - val_accuracy: 0.7900\n",
            "Epoch 129/200\n",
            "25/25 [==============================] - 1s 23ms/step - loss: 0.7886 - accuracy: 0.6938 - val_loss: 0.6697 - val_accuracy: 0.7550\n",
            "Epoch 130/200\n",
            "25/25 [==============================] - 1s 23ms/step - loss: 0.8273 - accuracy: 0.6650 - val_loss: 1.1442 - val_accuracy: 0.5400\n",
            "Epoch 131/200\n",
            "25/25 [==============================] - 1s 23ms/step - loss: 0.8259 - accuracy: 0.6675 - val_loss: 0.6259 - val_accuracy: 0.7800\n",
            "Epoch 132/200\n",
            "25/25 [==============================] - 1s 23ms/step - loss: 0.7450 - accuracy: 0.7013 - val_loss: 0.6669 - val_accuracy: 0.7350\n",
            "Epoch 133/200\n",
            "25/25 [==============================] - 1s 27ms/step - loss: 0.8096 - accuracy: 0.6675 - val_loss: 1.1822 - val_accuracy: 0.5850\n",
            "Epoch 134/200\n",
            "25/25 [==============================] - 1s 24ms/step - loss: 0.8463 - accuracy: 0.6675 - val_loss: 0.8654 - val_accuracy: 0.6750\n",
            "Epoch 135/200\n",
            "25/25 [==============================] - 1s 22ms/step - loss: 0.8095 - accuracy: 0.6850 - val_loss: 1.0114 - val_accuracy: 0.6050\n",
            "Epoch 136/200\n",
            "25/25 [==============================] - 1s 22ms/step - loss: 0.7728 - accuracy: 0.6812 - val_loss: 0.9276 - val_accuracy: 0.6450\n",
            "Epoch 137/200\n",
            "25/25 [==============================] - 1s 23ms/step - loss: 0.7709 - accuracy: 0.7088 - val_loss: 0.8270 - val_accuracy: 0.6600\n",
            "Epoch 138/200\n",
            "25/25 [==============================] - 1s 22ms/step - loss: 0.7744 - accuracy: 0.6850 - val_loss: 0.7746 - val_accuracy: 0.7600\n",
            "Epoch 139/200\n",
            "25/25 [==============================] - 1s 22ms/step - loss: 0.8044 - accuracy: 0.6812 - val_loss: 0.6731 - val_accuracy: 0.7550\n",
            "Epoch 140/200\n",
            "25/25 [==============================] - 1s 27ms/step - loss: 0.7718 - accuracy: 0.6963 - val_loss: 0.6937 - val_accuracy: 0.7700\n",
            "Epoch 141/200\n",
            "25/25 [==============================] - 1s 33ms/step - loss: 0.7823 - accuracy: 0.6888 - val_loss: 0.6996 - val_accuracy: 0.7700\n",
            "Epoch 142/200\n",
            "25/25 [==============================] - 1s 41ms/step - loss: 0.7384 - accuracy: 0.7038 - val_loss: 1.2728 - val_accuracy: 0.5300\n",
            "Epoch 143/200\n",
            "25/25 [==============================] - 1s 38ms/step - loss: 0.7462 - accuracy: 0.7163 - val_loss: 0.6380 - val_accuracy: 0.7750\n",
            "Epoch 144/200\n",
            "25/25 [==============================] - 1s 30ms/step - loss: 0.7315 - accuracy: 0.7138 - val_loss: 0.7243 - val_accuracy: 0.7700\n",
            "Epoch 145/200\n",
            "25/25 [==============================] - 1s 24ms/step - loss: 0.7577 - accuracy: 0.7025 - val_loss: 0.9412 - val_accuracy: 0.6350\n",
            "Epoch 146/200\n",
            "25/25 [==============================] - 1s 22ms/step - loss: 0.8432 - accuracy: 0.6712 - val_loss: 0.6244 - val_accuracy: 0.7900\n",
            "Epoch 147/200\n",
            "25/25 [==============================] - 1s 23ms/step - loss: 0.7306 - accuracy: 0.7275 - val_loss: 0.9545 - val_accuracy: 0.6200\n",
            "Epoch 148/200\n",
            "25/25 [==============================] - 1s 23ms/step - loss: 0.7465 - accuracy: 0.6975 - val_loss: 0.7614 - val_accuracy: 0.7000\n",
            "Epoch 149/200\n",
            "25/25 [==============================] - 1s 23ms/step - loss: 0.7860 - accuracy: 0.6963 - val_loss: 0.7479 - val_accuracy: 0.6950\n",
            "Epoch 150/200\n",
            "25/25 [==============================] - 1s 22ms/step - loss: 0.7636 - accuracy: 0.7075 - val_loss: 1.0855 - val_accuracy: 0.6250\n",
            "Epoch 151/200\n",
            "25/25 [==============================] - 1s 21ms/step - loss: 0.7703 - accuracy: 0.6938 - val_loss: 1.2703 - val_accuracy: 0.5200\n",
            "Epoch 152/200\n",
            "25/25 [==============================] - 1s 22ms/step - loss: 0.7096 - accuracy: 0.7300 - val_loss: 1.0915 - val_accuracy: 0.5200\n",
            "Epoch 153/200\n",
            "25/25 [==============================] - 1s 23ms/step - loss: 0.7496 - accuracy: 0.6975 - val_loss: 1.1256 - val_accuracy: 0.6200\n",
            "Epoch 154/200\n",
            "25/25 [==============================] - 1s 22ms/step - loss: 0.8082 - accuracy: 0.6612 - val_loss: 0.9827 - val_accuracy: 0.5800\n",
            "Epoch 155/200\n",
            "25/25 [==============================] - 1s 24ms/step - loss: 0.8177 - accuracy: 0.6725 - val_loss: 0.7334 - val_accuracy: 0.7300\n",
            "Epoch 156/200\n",
            "25/25 [==============================] - 1s 22ms/step - loss: 0.7427 - accuracy: 0.7038 - val_loss: 0.8814 - val_accuracy: 0.6200\n",
            "Epoch 157/200\n",
            "25/25 [==============================] - 1s 26ms/step - loss: 0.7672 - accuracy: 0.6975 - val_loss: 0.8763 - val_accuracy: 0.7150\n",
            "Epoch 158/200\n",
            "25/25 [==============================] - 1s 25ms/step - loss: 0.7908 - accuracy: 0.6875 - val_loss: 1.0598 - val_accuracy: 0.5800\n",
            "Epoch 159/200\n",
            "25/25 [==============================] - 1s 22ms/step - loss: 0.7977 - accuracy: 0.6725 - val_loss: 0.9201 - val_accuracy: 0.5950\n",
            "Epoch 160/200\n",
            "25/25 [==============================] - 1s 22ms/step - loss: 0.7826 - accuracy: 0.7100 - val_loss: 1.0357 - val_accuracy: 0.5950\n",
            "Epoch 161/200\n",
            "25/25 [==============================] - 1s 25ms/step - loss: 0.7264 - accuracy: 0.7100 - val_loss: 1.3137 - val_accuracy: 0.4850\n",
            "Epoch 162/200\n",
            "25/25 [==============================] - 1s 32ms/step - loss: 0.7927 - accuracy: 0.7050 - val_loss: 0.9602 - val_accuracy: 0.6650\n",
            "Epoch 163/200\n",
            "25/25 [==============================] - 1s 32ms/step - loss: 0.7364 - accuracy: 0.6963 - val_loss: 0.6899 - val_accuracy: 0.7600\n",
            "Epoch 164/200\n",
            "25/25 [==============================] - 1s 39ms/step - loss: 0.7375 - accuracy: 0.6988 - val_loss: 0.8341 - val_accuracy: 0.7050\n",
            "Epoch 165/200\n",
            "25/25 [==============================] - 1s 37ms/step - loss: 0.7475 - accuracy: 0.7200 - val_loss: 1.1266 - val_accuracy: 0.6600\n",
            "Epoch 166/200\n",
            "25/25 [==============================] - 1s 24ms/step - loss: 0.7419 - accuracy: 0.7013 - val_loss: 0.5707 - val_accuracy: 0.8050\n",
            "Epoch 167/200\n",
            "25/25 [==============================] - 1s 27ms/step - loss: 0.7522 - accuracy: 0.7113 - val_loss: 0.7372 - val_accuracy: 0.7500\n",
            "Epoch 168/200\n",
            "25/25 [==============================] - 1s 28ms/step - loss: 0.7982 - accuracy: 0.6888 - val_loss: 0.9184 - val_accuracy: 0.5550\n",
            "Epoch 169/200\n",
            "25/25 [==============================] - 1s 29ms/step - loss: 0.7877 - accuracy: 0.6750 - val_loss: 0.7228 - val_accuracy: 0.7000\n",
            "Epoch 170/200\n",
            "25/25 [==============================] - 1s 27ms/step - loss: 0.7108 - accuracy: 0.7188 - val_loss: 0.8008 - val_accuracy: 0.7250\n",
            "Epoch 171/200\n",
            "25/25 [==============================] - 1s 24ms/step - loss: 0.8160 - accuracy: 0.6750 - val_loss: 1.4767 - val_accuracy: 0.4850\n",
            "Epoch 172/200\n",
            "25/25 [==============================] - 1s 21ms/step - loss: 0.7246 - accuracy: 0.7188 - val_loss: 1.3408 - val_accuracy: 0.5000\n",
            "Epoch 173/200\n",
            "25/25 [==============================] - 1s 21ms/step - loss: 0.7245 - accuracy: 0.6988 - val_loss: 0.5737 - val_accuracy: 0.8000\n",
            "Epoch 174/200\n",
            "25/25 [==============================] - 1s 22ms/step - loss: 0.7024 - accuracy: 0.7275 - val_loss: 0.6783 - val_accuracy: 0.7650\n",
            "Epoch 175/200\n",
            "25/25 [==============================] - 1s 22ms/step - loss: 0.7373 - accuracy: 0.7063 - val_loss: 0.7965 - val_accuracy: 0.7350\n",
            "Epoch 176/200\n",
            "25/25 [==============================] - 1s 23ms/step - loss: 0.8000 - accuracy: 0.7050 - val_loss: 0.7462 - val_accuracy: 0.7400\n",
            "Epoch 177/200\n",
            "25/25 [==============================] - 1s 27ms/step - loss: 0.7588 - accuracy: 0.7138 - val_loss: 1.6800 - val_accuracy: 0.4850\n",
            "Epoch 178/200\n",
            "25/25 [==============================] - 1s 27ms/step - loss: 0.7793 - accuracy: 0.6950 - val_loss: 1.4252 - val_accuracy: 0.5500\n",
            "Epoch 179/200\n",
            "25/25 [==============================] - 1s 27ms/step - loss: 0.7102 - accuracy: 0.7188 - val_loss: 0.7341 - val_accuracy: 0.7100\n",
            "Epoch 180/200\n",
            "25/25 [==============================] - 1s 27ms/step - loss: 0.7361 - accuracy: 0.7300 - val_loss: 0.6691 - val_accuracy: 0.7450\n",
            "Epoch 181/200\n",
            "25/25 [==============================] - 1s 35ms/step - loss: 0.7725 - accuracy: 0.7100 - val_loss: 1.1162 - val_accuracy: 0.5700\n",
            "Epoch 182/200\n",
            "25/25 [==============================] - 1s 41ms/step - loss: 0.7404 - accuracy: 0.6988 - val_loss: 0.8905 - val_accuracy: 0.7050\n",
            "Epoch 183/200\n",
            "25/25 [==============================] - 1s 33ms/step - loss: 0.7007 - accuracy: 0.7212 - val_loss: 0.6229 - val_accuracy: 0.7800\n",
            "Epoch 184/200\n",
            "25/25 [==============================] - 1s 35ms/step - loss: 0.7761 - accuracy: 0.7063 - val_loss: 0.5807 - val_accuracy: 0.7850\n",
            "Epoch 185/200\n",
            "25/25 [==============================] - 1s 28ms/step - loss: 0.7454 - accuracy: 0.7100 - val_loss: 0.9354 - val_accuracy: 0.5550\n",
            "Epoch 186/200\n",
            "25/25 [==============================] - 1s 24ms/step - loss: 0.7720 - accuracy: 0.7013 - val_loss: 1.3422 - val_accuracy: 0.5450\n",
            "Epoch 187/200\n",
            "25/25 [==============================] - 1s 23ms/step - loss: 0.6992 - accuracy: 0.7237 - val_loss: 0.5244 - val_accuracy: 0.8100\n",
            "Epoch 188/200\n",
            "25/25 [==============================] - 1s 28ms/step - loss: 0.6785 - accuracy: 0.7425 - val_loss: 0.5849 - val_accuracy: 0.7750\n",
            "Epoch 189/200\n",
            "25/25 [==============================] - 1s 25ms/step - loss: 0.7191 - accuracy: 0.7163 - val_loss: 0.7253 - val_accuracy: 0.7500\n",
            "Epoch 190/200\n",
            "25/25 [==============================] - 1s 21ms/step - loss: 0.6878 - accuracy: 0.7300 - val_loss: 0.6146 - val_accuracy: 0.7800\n",
            "Epoch 191/200\n",
            "25/25 [==============================] - 1s 23ms/step - loss: 0.7134 - accuracy: 0.7150 - val_loss: 0.9413 - val_accuracy: 0.6300\n",
            "Epoch 192/200\n",
            "25/25 [==============================] - 1s 22ms/step - loss: 0.7524 - accuracy: 0.7050 - val_loss: 0.7305 - val_accuracy: 0.7250\n",
            "Epoch 193/200\n",
            "25/25 [==============================] - 1s 22ms/step - loss: 0.7073 - accuracy: 0.7175 - val_loss: 1.1097 - val_accuracy: 0.5300\n",
            "Epoch 194/200\n",
            "25/25 [==============================] - 1s 23ms/step - loss: 0.7316 - accuracy: 0.7163 - val_loss: 0.5491 - val_accuracy: 0.8300\n",
            "Epoch 195/200\n",
            "25/25 [==============================] - 1s 22ms/step - loss: 0.6654 - accuracy: 0.7400 - val_loss: 0.6293 - val_accuracy: 0.7950\n",
            "Epoch 196/200\n",
            "25/25 [==============================] - 1s 23ms/step - loss: 0.7501 - accuracy: 0.7063 - val_loss: 0.8478 - val_accuracy: 0.7150\n",
            "Epoch 197/200\n",
            "25/25 [==============================] - 1s 21ms/step - loss: 0.7429 - accuracy: 0.7200 - val_loss: 1.0282 - val_accuracy: 0.6650\n",
            "Epoch 198/200\n",
            "25/25 [==============================] - 1s 23ms/step - loss: 0.6749 - accuracy: 0.7312 - val_loss: 0.7686 - val_accuracy: 0.7150\n",
            "Epoch 199/200\n",
            "25/25 [==============================] - 1s 23ms/step - loss: 0.7163 - accuracy: 0.7287 - val_loss: 1.1688 - val_accuracy: 0.5250\n",
            "Epoch 200/200\n",
            "25/25 [==============================] - 1s 29ms/step - loss: 0.7021 - accuracy: 0.7262 - val_loss: 0.5867 - val_accuracy: 0.8350\n"
          ]
        },
        {
          "output_type": "execute_result",
          "data": {
            "text/plain": [
              "<keras.src.callbacks.History at 0x790325fe7cd0>"
            ]
          },
          "metadata": {},
          "execution_count": 22
        }
      ]
    },
    {
      "cell_type": "code",
      "source": [
        "# Save the model\n",
        "improved_model.save('PCG_Heart.h5')"
      ],
      "metadata": {
        "id": "XQVVUk_77i4r",
        "colab": {
          "base_uri": "https://localhost:8080/"
        },
        "outputId": "d45ff261-0475-448a-f524-842fa1baedd8"
      },
      "execution_count": null,
      "outputs": [
        {
          "output_type": "stream",
          "name": "stderr",
          "text": [
            "/usr/local/lib/python3.10/dist-packages/keras/src/engine/training.py:3103: UserWarning: You are saving your model as an HDF5 file via `model.save()`. This file format is considered legacy. We recommend using instead the native Keras format, e.g. `model.save('my_model.keras')`.\n",
            "  saving_api.save_model(\n"
          ]
        }
      ]
    },
    {
      "cell_type": "code",
      "source": [
        "!cp PCG_Heart.h5 /content/drive/MyDrive"
      ],
      "metadata": {
        "id": "wRsVsunM4lA9"
      },
      "execution_count": null,
      "outputs": []
    },
    {
      "cell_type": "code",
      "source": [
        "from tensorflow.keras.models import load_model\n",
        "# Load the saved model\n",
        "loaded_model = load_model('PCG_Heart.h5')"
      ],
      "metadata": {
        "id": "ZqyXIy6-7i1O"
      },
      "execution_count": null,
      "outputs": []
    },
    {
      "cell_type": "code",
      "source": [
        "# prompt: write code to reload the model and use it for prediction if a .wav file is given as input\n",
        "\n",
        "import numpy as np\n",
        "# Load the saved model\n",
        "# loaded_model = load_model('/content/drive/MyDrive/PCG_Heart.h5')\n",
        "\n",
        "# Define a function to predict the class of a given audio file\n",
        "def predict_audio(filename):\n",
        "    # Load the audio file\n",
        "    signal, sr = librosa.load(filename)\n",
        "\n",
        "    # Preprocess the audio file\n",
        "    stft = np.abs(librosa.stft(signal))\n",
        "    spectral_centroids = librosa.feature.spectral_centroid(S=stft, sr=sr)\n",
        "    spectral_bandwidth = librosa.feature.spectral_bandwidth(S=stft, sr=sr)\n",
        "    features = np.concatenate((spectral_centroids, spectral_bandwidth), axis=0).mean(axis=1)\n",
        "\n",
        "    # Reshape the features for the model\n",
        "    features = features.reshape(1, features.shape[0], 1)\n",
        "\n",
        "    # Make a prediction using the loaded model\n",
        "    prediction = loaded_model.predict(features)\n",
        "\n",
        "    # Get the class label corresponding to the prediction\n",
        "    predicted_class = le.inverse_transform([np.argmax(prediction)])\n",
        "\n",
        "    # Return the predicted class\n",
        "    return predicted_class[0]\n",
        "\n",
        "# Example usage\n",
        "filename = '/content/drive/MyDrive/Pushpendra/PCG_Heart/PCG_Dataset/Aortic_Stenosis/New_AS_003.wav'\n",
        "predicted_class = predict_audio(filename)\n",
        "print(f\"Predicted class for {filename}: {predicted_class}\")\n"
      ],
      "metadata": {
        "colab": {
          "base_uri": "https://localhost:8080/"
        },
        "id": "J06AVvmcuYny",
        "outputId": "c1770a33-2198-4e68-f329-39929688bc76"
      },
      "execution_count": null,
      "outputs": [
        {
          "output_type": "stream",
          "name": "stdout",
          "text": [
            "1/1 [==============================] - 0s 37ms/step\n",
            "Predicted class for /content/drive/MyDrive/Pushpendra/PCG_Heart/PCG_Dataset/Aortic_Stenosis/New_AS_003.wav: Aortic_Stenosis\n"
          ]
        }
      ]
    }
  ]
}